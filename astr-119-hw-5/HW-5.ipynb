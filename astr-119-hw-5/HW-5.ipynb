{
 "cells": [
  {
   "cell_type": "markdown",
   "id": "b404e396",
   "metadata": {},
   "source": [
    "Let's use the trap method, simpsons rule, and romberg integration\n"
   ]
  },
  {
   "cell_type": "code",
   "execution_count": 1,
   "id": "e0bf99a2",
   "metadata": {},
   "outputs": [],
   "source": [
    "%matplotlib inline\n",
    "import numpy as np\n",
    "import matplotlib.pyplot as plt\n"
   ]
  },
  {
   "cell_type": "markdown",
   "id": "aa423387",
   "metadata": {},
   "source": [
    "# Change function"
   ]
  },
  {
   "cell_type": "code",
   "execution_count": 2,
   "id": "d278c5ee",
   "metadata": {},
   "outputs": [],
   "source": [
    "#define a funtion\n",
    "def func(x):\n",
    "    return np.exp( -2*x)*np.cos(10*x)\n",
    "\n",
    "    "
   ]
  },
  {
   "cell_type": "markdown",
   "id": "4b983aa8",
   "metadata": {},
   "source": [
    "# define core of trap method"
   ]
  },
  {
   "cell_type": "code",
   "execution_count": 3,
   "id": "f6f34489",
   "metadata": {},
   "outputs": [],
   "source": [
    "def func_integral(x):\n",
    "    return (np.exp(-2*x)*np.sin(10*x)*5)/52.0  - (np.exp(-2*x)*np.cos(10*x))/52.0"
   ]
  },
  {
   "cell_type": "code",
   "execution_count": 4,
   "id": "76a61b25",
   "metadata": {},
   "outputs": [],
   "source": [
    "def trapezoid_core(f,x,h):\n",
    "    return 0.5*h*(f(x+h) + f(x)) "
   ]
  },
  {
   "cell_type": "code",
   "execution_count": 5,
   "id": "877d1f04",
   "metadata": {},
   "outputs": [],
   "source": [
    "def trapezoid_method(f,a,b,N):\n",
    "    #f == tunction to integrate\n",
    "    #a == lower limit if integration\n",
    "    #b == upper limit of integration\n",
    "    #N == number of intervals to use\n",
    "    \n",
    "    #define x valuesto perform the trapezoid rule\n",
    "    x = np.linspace(a,b,N)\n",
    "    h = x[1]-x[0]\n",
    "    \n",
    "    # define the value of the integral\n",
    "    Fint = 0.0\n",
    "    \n",
    "    #perform the integral using the trapezoid method\n",
    "    for i in range(0,len(x)-1,1):\n",
    "        Fint += trapezoid_core(f,x[i],h)\n",
    "        \n",
    "    #return the answer\n",
    "    return Fint\n",
    "    \n",
    "    "
   ]
  },
  {
   "cell_type": "markdown",
   "id": "8319c916",
   "metadata": {},
   "source": [
    "## define core of simpson;s method"
   ]
  },
  {
   "cell_type": "code",
   "execution_count": 6,
   "id": "eab94547",
   "metadata": {},
   "outputs": [],
   "source": [
    "def simpsons_core(f,x,h):\n",
    "    return h*(f(x) + 4*f(x+h) +f(x+2*h))/3."
   ]
  },
  {
   "cell_type": "code",
   "execution_count": 7,
   "id": "44a3800b",
   "metadata": {},
   "outputs": [],
   "source": [
    "def simpsons_method(f,a,b,N):\n",
    "    #f == tunction to integrate\n",
    "    #a == lower limit if integration\n",
    "    #b == upper limit of integration\n",
    "    #N == number of intervals to use\n",
    "    #note the number of chunks will be N-1\n",
    "    \n",
    "    \n",
    "    #define x valuesto perform the trapezoid rule\n",
    "    x = np.linspace(a,b,N)\n",
    "    h = x[1]-x[0]\n",
    "    \n",
    "    # define the value of the integral\n",
    "    Fint = 0.0\n",
    "    \n",
    "    #perform the integral using the \n",
    "    #simpsons method\n",
    "\n",
    "    for i in range(0,len(x)-2,2):\n",
    "        Fint += simpsons_core(f,x[i],h)\n",
    "    \n",
    "    #apply rule over the last interval if N is even\n",
    "    if((N%2)==2):\n",
    "        Fint += simpsons_core(f,x[-2],0.5*h)\n",
    "    #return the answer\n",
    "    return Fint\n",
    "    \n",
    "    "
   ]
  },
  {
   "cell_type": "markdown",
   "id": "064fe7a6",
   "metadata": {},
   "source": [
    "# define romberg core"
   ]
  },
  {
   "cell_type": "code",
   "execution_count": 8,
   "id": "64eb84a3",
   "metadata": {},
   "outputs": [],
   "source": [
    "def romberg_core(f,a,b,i):\n",
    "    \n",
    "    #we need the difference between a and b\n",
    "    h = b-a\n",
    "    \n",
    "    #interval between functions evaluations at refine level i\n",
    "    dh = h/2.**(i)\n",
    "    \n",
    "    #we need the cofactor\n",
    "    K= h/2. **(i+1)\n",
    "    \n",
    "    # and the function evaluations\n",
    "    M = 0.0\n",
    "    for j in range(2**i):\n",
    "        M += f(a + 0.5*dh + j*dh)\n",
    "        \n",
    "    #return the answer\n",
    "    return K*M"
   ]
  },
  {
   "cell_type": "markdown",
   "id": "7406bff6",
   "metadata": {},
   "source": [
    "## define a wrapper function to perform Romberg integration"
   ]
  },
  {
   "cell_type": "code",
   "execution_count": 9,
   "id": "ca92bcc5",
   "metadata": {},
   "outputs": [],
   "source": [
    "def romberg_integration(f,a,b,tol):\n",
    "    \n",
    "    #define an iteration variable\n",
    "    i=0\n",
    "    \n",
    "    #define a maximum number of iterations\n",
    "    imax = 10000\n",
    "    \n",
    "    # define an error estimate, set to a large value\n",
    "    delta = 100.0*np.fabs(tol)\n",
    "    \n",
    "    #set an array of integral answers \n",
    "    I = np.zeros(imax,dtype=float)\n",
    "    \n",
    "    #get the zeroth romberg iteration\n",
    "    I[0] = 0.5*(b-a)*(f(a) + f(b))\n",
    "    \n",
    "    #iterate by 1\n",
    "    i += 1\n",
    "    \n",
    "    while(delta>tol):\n",
    "        \n",
    "        #find this romberg iteration\n",
    "        I[i] = 0.5*I[i-1] + romberg_core(f,a,b,i)\n",
    "        \n",
    "        #compute the new functional error estimate\n",
    "        delta = np.fabs( (I[i] - I[i-1])/I[i] )\n",
    "        \n",
    "        print(i,I[i],I[i-1],delta)\n",
    "        \n",
    "        if(delta>tol):\n",
    "            \n",
    "            #iterate\n",
    "            i += 1\n",
    "            \n",
    "            #if we've reached the maximum iterations\n",
    "            if(i>imax):\n",
    "                print(\"Max iterations reached.\")\n",
    "                raise StopIteration('Stopping iterations after' ,i)\n",
    "                \n",
    "    #return the answer\n",
    "    return I[i]"
   ]
  },
  {
   "cell_type": "code",
   "execution_count": null,
   "id": "194d4fdf",
   "metadata": {},
   "outputs": [],
   "source": []
  },
  {
   "cell_type": "code",
   "execution_count": null,
   "id": "c860ad6b",
   "metadata": {},
   "outputs": [],
   "source": []
  },
  {
   "cell_type": "code",
   "execution_count": 10,
   "id": "db94edad",
   "metadata": {},
   "outputs": [
    {
     "name": "stdout",
     "output_type": "stream",
     "text": [
      "integral value using actual integration formulae for e^(-2x)cos(10x) =  0.019194856870544078\n",
      "\n",
      "numeric integral value by Trapezoid method 0.01919582991110986\n",
      "interval size =  1300 delta =  9.730405657812358e-07\n",
      "\n",
      "numeric integral value by simpson method 0.019193861813128647\n",
      "interval size =  5900 delta =  9.950574154302116e-07\n",
      "\n",
      "Integral value by Romberg method:\n",
      "1 0.7868648494891817 1.5737296989783633 1.0\n",
      "2 0.2974797999211515 0.7868648494891817 1.6451034648327187\n",
      "3 0.1338682162766772 0.2974797999211515 1.222183937270994\n",
      "4 0.07429884868669352 0.1338682162766772 0.8017535754985687\n",
      "5 0.04631129469303243 0.07429884868669352 0.6043353825275767\n",
      "6 0.03265075906247467 0.04631129469303243 0.41838340126854\n",
      "7 0.02589762452336669 0.03265075906247467 0.26076270173022315\n",
      "8 0.022539969341304138 0.02589762452336669 0.14896449641170112\n",
      "9 0.02086584679503983 0.022539969341304138 0.08023266741622372\n",
      "10 0.02002996035051737 0.02086584679503983 0.041731807247480004\n",
      "11 0.01961231074592669 0.02002996035051737 0.02129527774678078\n",
      "12 0.019403559342457077 0.01961231074592669 0.010758407763509729\n",
      "13 0.01929920199007937 0.019403559342457077 0.005407340284398829\n",
      "14 0.019247027901207872 0.01929920199007937 0.0027107608062554305\n",
      "15 0.019220942003600066 0.019247027901207872 0.0013571602059316483\n",
      "16 0.01920789934150289 0.019220942003600066 0.0006790259499640058\n",
      "17 0.019201378082131116 0.01920789934150289 0.0003396245490234728\n",
      "18 0.019198117470364318 0.019201378082131116 0.0001698401820820051\n",
      "19 0.019196487168961114 0.019198117470364318 8.492706966926287e-05\n",
      "20 0.019195672019377927 0.019196487168961114 4.246527979663633e-05\n",
      "21 0.019195264444867084 0.019195672019377927 2.1233076106515646e-05\n",
      "22 0.019195060657681284 0.019195264444867084 1.0616647138248912e-05\n",
      "23 0.019194958764104236 0.019195060657681284 5.308350921731978e-06\n",
      "24 0.019194907817322193 0.019194958764104236 2.6541821678933438e-06\n",
      "25 0.01919488234392562 0.019194907817322193 1.3270931343178013e-06\n",
      "26 0.019194869607236317 0.01919488234392562 6.635465394946495e-07\n",
      "0.019194869607236317 6.635471327025206e-07 1e-06\n"
     ]
    }
   ],
   "source": [
    "integral_value = func_integral(np.pi)-func_integral(0)\n",
    "print(\"integral value using actual integration formulae for e^(-2x)cos(10x) = \", integral_value)\n",
    "\n",
    "# Trapezoid method \n",
    "#set initial interval size to 50  \n",
    "N = 50\n",
    "tolerance = 1.0e-6\n",
    "delta = 1 # some high number\n",
    "while (delta > tolerance):\n",
    "    N = N + 50\n",
    "    num_int_value = trapezoid_method(func,0,np.pi,N);\n",
    "    delta  = np.fabs(num_int_value - integral_value)\n",
    "print()\n",
    "print(\"numeric integral value by Trapezoid method\", num_int_value)   \n",
    "print( \"interval size = \",N,\"delta = \", delta)\n",
    "\n",
    "#Simpson method  \n",
    "N = 50\n",
    "delta = 1 # some high number\n",
    "while ((delta) > tolerance):\n",
    "    N = N + 50\n",
    "    num_int_value = simpsons_method(func,0,np.pi,N);\n",
    "    delta  = np.fabs(num_int_value - integral_value)\n",
    "print()\n",
    "print(\"numeric integral value by simpson method\", num_int_value) \n",
    "print( \"interval size = \",N,\"delta = \", delta, )\n",
    "print()\n",
    "print(\"Integral value by Romberg method:\")\n",
    "tolerance = 1.0e-6\n",
    "RI = romberg_integration(func,0,np.pi,tolerance)\n",
    "print(RI, (RI-integral_value)/integral_value, tolerance)\n"
   ]
  },
  {
   "cell_type": "markdown",
   "id": "8c135e6e",
   "metadata": {},
   "source": [
    "## Number of iterations for Romburg = 26"
   ]
  },
  {
   "cell_type": "markdown",
   "id": "52a34785",
   "metadata": {},
   "source": [
    "## Interval size for Trapezoid = 1300"
   ]
  },
  {
   "cell_type": "markdown",
   "id": "1596cbcd",
   "metadata": {},
   "source": [
    "## Interval size for Simpsons method = 5900"
   ]
  },
  {
   "cell_type": "code",
   "execution_count": null,
   "id": "573693a4",
   "metadata": {},
   "outputs": [],
   "source": []
  },
  {
   "cell_type": "code",
   "execution_count": null,
   "id": "bd82aa90",
   "metadata": {},
   "outputs": [],
   "source": []
  }
 ],
 "metadata": {
  "kernelspec": {
   "display_name": "Python 3 (ipykernel)",
   "language": "python",
   "name": "python3"
  },
  "language_info": {
   "codemirror_mode": {
    "name": "ipython",
    "version": 3
   },
   "file_extension": ".py",
   "mimetype": "text/x-python",
   "name": "python",
   "nbconvert_exporter": "python",
   "pygments_lexer": "ipython3",
   "version": "3.9.7"
  }
 },
 "nbformat": 4,
 "nbformat_minor": 5
}
