{
 "cells": [
  {
   "cell_type": "markdown",
   "id": "b404e396",
   "metadata": {},
   "source": [
    "Let's use the trap method, simpsons rule, and romberg integration\n"
   ]
  },
  {
   "cell_type": "code",
   "execution_count": null,
   "id": "e0bf99a2",
   "metadata": {},
   "outputs": [],
   "source": [
    "%matplotlib inline\n",
    "import numpy as np\n",
    "import matplotlib.pyplot as plt\n"
   ]
  },
  {
   "cell_type": "markdown",
   "id": "aa423387",
   "metadata": {},
   "source": [
    "# Change function"
   ]
  },
  {
   "cell_type": "code",
   "execution_count": null,
   "id": "d278c5ee",
   "metadata": {},
   "outputs": [],
   "source": [
    "#define a funtion\n",
    "def func(x):\n",
    "    return np.exp( -2*x)*np.cos(10*x)\n",
    "\n",
    "    "
   ]
  },
  {
   "cell_type": "markdown",
   "id": "4b983aa8",
   "metadata": {},
   "source": [
    "# define core of trap method"
   ]
  },
  {
   "cell_type": "code",
   "execution_count": null,
   "id": "f6f34489",
   "metadata": {},
   "outputs": [],
   "source": [
    "def func_integral(x):\n",
    "    return (np.exp(-2*x)*np.sin(10*x)*5)/52.0  - (np.exp(-2*x)*np.cos(10*x))/52.0"
   ]
  },
  {
   "cell_type": "code",
   "execution_count": null,
   "id": "76a61b25",
   "metadata": {},
   "outputs": [],
   "source": [
    "def trapezoid_core(f,x,h):\n",
    "    return 0.5*h*(f(x+h) + f(x)) "
   ]
  },
  {
   "cell_type": "code",
   "execution_count": null,
   "id": "877d1f04",
   "metadata": {},
   "outputs": [],
   "source": [
    "def trapezoid_method(f,a,b,N):\n",
    "    #f == tunction to integrate\n",
    "    #a == lower limit if integration\n",
    "    #b == upper limit of integration\n",
    "    #N == number of intervals to use\n",
    "    \n",
    "    #define x valuesto perform the trapezoid rule\n",
    "    x = np.linspace(a,b,N)\n",
    "    h = x[1]-x[0]\n",
    "    \n",
    "    # define the value of the integral\n",
    "    Fint = 0.0\n",
    "    \n",
    "    #perform the integral using the trapezoid method\n",
    "    for i in range(0,len(x)-1,1):\n",
    "        Fint += trapezoid_core(f,x[i],h)\n",
    "        \n",
    "    #return the answer\n",
    "    return Fint\n",
    "    \n",
    "    "
   ]
  },
  {
   "cell_type": "markdown",
   "id": "8319c916",
   "metadata": {},
   "source": [
    "## define core of simpson;s method"
   ]
  },
  {
   "cell_type": "code",
   "execution_count": null,
   "id": "eab94547",
   "metadata": {},
   "outputs": [],
   "source": [
    "def simpsons_core(f,x,h):\n",
    "    return h*(f(x) + 4*f(x+h) +f(x+2*h))/3."
   ]
  },
  {
   "cell_type": "code",
   "execution_count": null,
   "id": "44a3800b",
   "metadata": {},
   "outputs": [],
   "source": [
    "def simpsons_method(f,a,b,N):\n",
    "    #f == tunction to integrate\n",
    "    #a == lower limit if integration\n",
    "    #b == upper limit of integration\n",
    "    #N == number of intervals to use\n",
    "    #note the number of chunks will be N-1\n",
    "    \n",
    "    \n",
    "    #define x valuesto perform the trapezoid rule\n",
    "    x = np.linspace(a,b,N)\n",
    "    h = x[1]-x[0]\n",
    "    \n",
    "    # define the value of the integral\n",
    "    Fint = 0.0\n",
    "    \n",
    "    #perform the integral using the \n",
    "    #simpsons method\n",
    "\n",
    "    for i in range(0,len(x)-2,2):\n",
    "        Fint += simpsons_core(f,x[i],h)\n",
    "    \n",
    "    #apply rule over the last interval if N is even\n",
    "    if((N%2)==2):\n",
    "        Fint += simpsons_core(f,x[-2],0.5*h)\n",
    "    #return the answer\n",
    "    return Fint\n",
    "    \n",
    "    "
   ]
  },
  {
   "cell_type": "markdown",
   "id": "064fe7a6",
   "metadata": {},
   "source": [
    "# define romberg core"
   ]
  },
  {
   "cell_type": "code",
   "execution_count": null,
   "id": "64eb84a3",
   "metadata": {},
   "outputs": [],
   "source": [
    "def romberg_core(f,a,b,i):\n",
    "    \n",
    "    #we need the difference between a and b\n",
    "    h = b-a\n",
    "    \n",
    "    #interval between functions evaluations at refine level i\n",
    "    dh = h/2.**(i)\n",
    "    \n",
    "    #we need the cofactor\n",
    "    K= h/2. **(i+1)\n",
    "    \n",
    "    # and the function evaluations\n",
    "    M = 0.0\n",
    "    for j in range(2**i):\n",
    "        M += f(a + 0.5*dh + j*dh)\n",
    "        \n",
    "    #return the answer\n",
    "    return K*M"
   ]
  },
  {
   "cell_type": "markdown",
   "id": "7406bff6",
   "metadata": {},
   "source": [
    "## define a wrapper function to perform Romberg integration"
   ]
  },
  {
   "cell_type": "code",
   "execution_count": null,
   "id": "ca92bcc5",
   "metadata": {},
   "outputs": [],
   "source": [
    "def romberg_integration(f,a,b,tol):\n",
    "    \n",
    "    #define an iteration variable\n",
    "    i=0\n",
    "    \n",
    "    #define a maximum number of iterations\n",
    "    imax = 10000\n",
    "    \n",
    "    # define an error estimate, set to a large value\n",
    "    delta = 100.0*np.fabs(tol)\n",
    "    \n",
    "    #set an array of integral answers \n",
    "    I = np.zeros(imax,dtype=float)\n",
    "    \n",
    "    #get the zeroth romberg iteration\n",
    "    I[0] = 0.5*(b-a)*(f(a) + f(b))\n",
    "    \n",
    "    #iterate by 1\n",
    "    i += 1\n",
    "    \n",
    "    while(delta>tol):\n",
    "        \n",
    "        #find this romberg iteration\n",
    "        I[i] = 0.5*I[i-1] + romberg_core(f,a,b,i)\n",
    "        \n",
    "        #compute the new functional error estimate\n",
    "        delta = np.fabs( (I[i] - I[i-1])/I[i] )\n",
    "        \n",
    "        print(i,I[i],I[i-1],delta)\n",
    "        \n",
    "        if(delta>tol):\n",
    "            \n",
    "            #iterate\n",
    "            i += 1\n",
    "            \n",
    "            #if we've reached the maximum iterations\n",
    "            if(i>imax):\n",
    "                print(\"Max iterations reached.\")\n",
    "                raise StopIteration('Stopping iterations after' ,i)\n",
    "                \n",
    "    #return the answer\n",
    "    return I[i]"
   ]
  },
  {
   "cell_type": "code",
   "execution_count": null,
   "id": "194d4fdf",
   "metadata": {},
   "outputs": [],
   "source": []
  },
  {
   "cell_type": "code",
   "execution_count": null,
   "id": "c860ad6b",
   "metadata": {},
   "outputs": [],
   "source": []
  },
  {
   "cell_type": "code",
   "execution_count": null,
   "id": "db94edad",
   "metadata": {},
   "outputs": [],
   "source": [
    "integral_value = func_integral(np.pi)-func_integral(0)\n",
    "print(\"integral value using actual integration formulae for e^(-2x)cos(10x) = \", integral_value)\n",
    "\n",
    "# Trapezoid method \n",
    "#set initial interval size to 50  \n",
    "N = 50\n",
    "tolerance = 1.0e-6\n",
    "delta = 1 # some high number\n",
    "while (delta > tolerance):\n",
    "    N = N + 50\n",
    "    num_int_value = trapezoid_method(func,0,np.pi,N);\n",
    "    delta  = np.fabs(num_int_value - integral_value)\n",
    "print()\n",
    "print(\"numeric integral value by Trapezoid method\", num_int_value)   \n",
    "print( \"interval size = \",N,\"delta = \", delta)\n",
    "\n",
    "#Simpson method  \n",
    "N = 50\n",
    "delta = 1 # some high number\n",
    "while ((delta) > tolerance):\n",
    "    N = N + 50\n",
    "    num_int_value = simpsons_method(func,0,np.pi,N);\n",
    "    delta  = np.fabs(num_int_value - integral_value)\n",
    "print()\n",
    "print(\"numeric integral value by simpson method\", num_int_value) \n",
    "print( \"interval size = \",N,\"delta = \", delta, )\n",
    "print()\n",
    "print(\"Integral value by Romberg method:\")\n",
    "tolerance = 1.0e-6\n",
    "RI = romberg_integration(func,0,np.pi,tolerance)\n",
    "print(RI, (RI-integral_value)/integral_value, tolerance)\n"
   ]
  },
  {
   "cell_type": "markdown",
   "id": "e483e824",
   "metadata": {},
   "source": [
    "## Number of iterations for Romburg = 26"
   ]
  },
  {
   "cell_type": "markdown",
   "id": "95f08adb",
   "metadata": {},
   "source": [
    "## Interval size for Trapezoid = 1300"
   ]
  },
  {
   "cell_type": "markdown",
   "id": "2cd7f630",
   "metadata": {},
   "source": [
    "## Interval size for Simpsons method = 5900"
   ]
  },
  {
   "cell_type": "code",
   "execution_count": null,
   "id": "573693a4",
   "metadata": {},
   "outputs": [],
   "source": []
  },
  {
   "cell_type": "code",
   "execution_count": null,
   "id": "bd82aa90",
   "metadata": {},
   "outputs": [],
   "source": []
  }
 ],
 "metadata": {
  "kernelspec": {
   "display_name": "Python 3 (ipykernel)",
   "language": "python",
   "name": "python3"
  },
  "language_info": {
   "codemirror_mode": {
    "name": "ipython",
    "version": 3
   },
   "file_extension": ".py",
   "mimetype": "text/x-python",
   "name": "python",
   "nbconvert_exporter": "python",
   "pygments_lexer": "ipython3",
   "version": "3.9.7"
  }
 },
 "nbformat": 4,
 "nbformat_minor": 5
}
