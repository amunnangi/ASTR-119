{
 "cells": [
  {
   "cell_type": "code",
   "execution_count": null,
   "id": "cfe82c29",
   "metadata": {},
   "outputs": [],
   "source": [
    "%matplotlib inline\n",
    "import numpy as np\n",
    "import matplotlib.pyplot as plt"
   ]
  },
  {
   "cell_type": "code",
   "execution_count": null,
   "id": "ee0e3414",
   "metadata": {},
   "outputs": [],
   "source": [
    "n = 1000\n",
    "x = np.arange(n,dtype=float) # declares an array of floating point numbers\n",
    "x *= 2.0 * np.pi/float(n-1) # each element of x is replaced 2pi/(n-1)\n",
    "plt.ylim([-1, 10])\n",
    "plt.xlim([0,2.0*np.pi])\n",
    "\n",
    "y = 5.5*np.cos(2*x) +5.5\n",
    "plt.plot(x,y)\n",
    "\n",
    "x = np.arange(n,dtype=float) # declares an array of floating point numbers\n",
    "x *= 2.0 * np.pi/float(n-1) # each element of x is replaced 2pi/(n-1)\n",
    "y = 0.02 * np.exp( x )\n",
    "plt.plot(x,y)\n",
    "\n",
    "x = np.arange(n,dtype=float) # declares an array of floating point numbers\n",
    "x *= 2.0 * np.pi/float(n-1) # each element of x is replaced 2pi/(n-1)\n",
    "y = 0.25 * x**2  + 0.1* np.sin (10 * x)\n",
    "plt.plot(x,y)\n",
    "\n",
    "plt.xlabel('Time in ASTR 119')\n",
    "plt.ylabel('Measures of Awesomeness')"
   ]
  },
  {
   "cell_type": "code",
   "execution_count": null,
   "id": "6b42dd5e",
   "metadata": {},
   "outputs": [],
   "source": []
  },
  {
   "cell_type": "code",
   "execution_count": null,
   "id": "61722143",
   "metadata": {},
   "outputs": [],
   "source": []
  }
 ],
 "metadata": {
  "kernelspec": {
   "display_name": "Python 3 (ipykernel)",
   "language": "python",
   "name": "python3"
  },
  "language_info": {
   "codemirror_mode": {
    "name": "ipython",
    "version": 3
   },
   "file_extension": ".py",
   "mimetype": "text/x-python",
   "name": "python",
   "nbconvert_exporter": "python",
   "pygments_lexer": "ipython3",
   "version": "3.9.7"
  }
 },
 "nbformat": 4,
 "nbformat_minor": 5
}
