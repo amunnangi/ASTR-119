{
 "cells": [
  {
   "cell_type": "markdown",
   "id": "3e2b2a64",
   "metadata": {},
   "source": [
    "\n",
    "# Bisection search"
   ]
  },
  {
   "cell_type": "code",
   "execution_count": null,
   "id": "dbef5d78",
   "metadata": {},
   "outputs": [],
   "source": [
    "%matplotlib inline\n",
    "import numpy as np\n",
    "import matplotlib.pyplot as plt"
   ]
  },
  {
   "cell_type": "markdown",
   "id": "6ab64729",
   "metadata": {},
   "source": [
    "### Define a function to calculate the function value for a given x"
   ]
  },
  {
   "cell_type": "code",
   "execution_count": null,
   "id": "b8b85139",
   "metadata": {},
   "outputs": [],
   "source": [
    "def eval_function(x): \n",
    "    a = 1.01\n",
    "    b = -3.04\n",
    "    c = 2.07\n",
    "    return a*x**2 + b*x +c\n"
   ]
  },
  {
   "cell_type": "markdown",
   "id": "9dc2dfc4",
   "metadata": {},
   "source": [
    "### Validate our intial values for x; check if one of them are roots and if they bracket a root"
   ]
  },
  {
   "cell_type": "code",
   "execution_count": null,
   "id": "59dac8ce",
   "metadata": {},
   "outputs": [],
   "source": [
    "def check_initial_values(f, x_min, x_max, tol):\n",
    "    #check our initial guesses\n",
    "    y_min = f(x_min)\n",
    "    y_max = f(x_max)\n",
    "    \n",
    "    #check that xmin and xmas bracket a root\n",
    "    if (y_min*y_max > 0.0):\n",
    "        print(\"no zero crossing found in the range\",x_min, x_max)\n",
    "        s = \"f(%f) = %f, f(%f) = %f\" % {x_min,y_min,x_max,y_max}\n",
    "        print(s)\n",
    "        return 0\n",
    "   \n",
    "    #if x_min is a root , then return flag ==1\n",
    "    if(np.fabs(y_min) < tol):\n",
    "        return 1\n",
    "   \n",
    "    #if x_max is a root, then return flag == 2\n",
    "    if(np.fabs(y_max) < tol):\n",
    "        return 2\n",
    "  \n",
    "    #if we reach this point, the bracket is valid\n",
    "    #and we will return 3\n",
    "    return 3\n",
    "\n",
    "    \n",
    "                         "
   ]
  },
  {
   "cell_type": "markdown",
   "id": "e483e60b",
   "metadata": {},
   "source": [
    "### main work function"
   ]
  },
  {
   "cell_type": "code",
   "execution_count": null,
   "id": "eee3ac83",
   "metadata": {},
   "outputs": [],
   "source": [
    "def bisection_root_finding(f, x_min_start, x_max_start, tol):\n",
    "    #this function uses bisection search to find a root of f\n",
    "    x_min = x_min_start\n",
    "    x_max = x_max_start\n",
    "    x_mid = 0.0\n",
    "    \n",
    "    imax = 1000 #max number of iterations\n",
    "    i = 0\n",
    "    \n",
    "    #check the initial values\n",
    "    flag = check_initial_values(f,x_min,x_max,tol)\n",
    "    if(flag == 0):\n",
    "        print(\"error in bisection_root_finding\")\n",
    "        raise ValueError(\"Initial values invalid\", x_min, x_max)\n",
    "    \n",
    "    elif(flag ==1):\n",
    "        #got lucky\n",
    "        return x_min\n",
    "    \n",
    "    elif(flag == 2):\n",
    "        return x_max\n",
    "    #if we reach here,then conduct the search\n",
    "    \n",
    "    #set a flag\n",
    "    flag = 1\n",
    "    \n",
    "    while (flag):\n",
    "        #set mid point\n",
    "        x_mid = 0.5*(x_min+x_max)\n",
    "        y_mid = f(x_mid) #function at mid point\n",
    "        \n",
    "        #check if x_mid is a root\n",
    "        if(np.fabs(y_mid) < tol):\n",
    "            flag = 0\n",
    "        else:\n",
    "            #x_mid is not a root\n",
    "        \n",
    "            #if the product of the fuction at the mid point\n",
    "            #and at one of the end points is greater than zero, \n",
    "            #replace this end point\n",
    "            if(f(x_min) * f(x_mid) > 0):\n",
    "                x_min = x_mid\n",
    "            else:\n",
    "                #replace x_max with x_mid\n",
    "                x_max = x_mid\n",
    "        \n",
    "          #print out the iteration \n",
    "        #print the labels only for iteration 1\n",
    "        if (i == 0):\n",
    "            print(\"x_min   y_min   x_max    x_max\")\n",
    "        \n",
    "        print(x_min, f(x_min), x_max, f(x_max))\n",
    "    \n",
    "        #count the iterations\n",
    "        i +=1\n",
    "    \n",
    "        #if we have exceeded the max number\n",
    "            #of iterations, exit\n",
    "        if (i >= imax):\n",
    "            print(\"Exceeded max number of iterations\", i)\n",
    "            s = \"min bracket f(%f) = %f\" % (x_min, f(x_min))\n",
    "            print(s)\n",
    "            s = \"max bracket f(%f) = %f\" % (x_max, f(x_max))\n",
    "            print(s)\n",
    "            raise StopIteration(\"stop iterations after \", i)\n",
    "        #inside the while loop\n",
    "        #end of wile loop\n",
    "    \n",
    "    #outside of the while loop\n",
    "\n",
    "    #we are done, return the root and iterations\n",
    "    return x_mid, i\n",
    "\n",
    "  \n",
    "    "
   ]
  },
  {
   "cell_type": "markdown",
   "id": "914acc35",
   "metadata": {},
   "source": [
    "### perform search"
   ]
  },
  {
   "cell_type": "code",
   "execution_count": null,
   "id": "4d9c2824",
   "metadata": {},
   "outputs": [],
   "source": [
    "x_min = 0.25\n",
    "x_max = 1.8\n",
    "y_min = eval_function(x_min)\n",
    "y_max = eval_function(x_max)\n",
    "tolerance = 1.0e-6\n",
    "#print the initial guesses\n",
    "print (\"initial guesses are: [%f, %f], [%f, %f]\", x_min,y_min,x_max,y_max)\n",
    "\n",
    "\n",
    "#call the bisection root finding function\n",
    "x_root, iterations = bisection_root_finding(eval_function, x_min, x_max, tolerance)\n",
    "y_root = eval_function(x_root)\n",
    "print()\n",
    "s = \"root found with y(%f) = %f, after %d number of iterations \" % (x_root,y_root, iterations)\n",
    "print(s)\n",
    "\n",
    "#Plot f(x) and x\n",
    "x = np.linspace(0,3,1000)\n",
    "y = eval_function(x)\n",
    "\n",
    "plt.xlabel(r'$x$')\n",
    "plt.ylabel(r'$y(x)')\n",
    "plt.xlim([0,3])\n",
    "plt.ylim([-0.5,2.1])\n",
    "plt.plot(x,y)\n",
    "\n",
    "#draw a line at y =0 \n",
    "#points are x=0, y = 0 and x=3 and y =0\n",
    "x_values = [0,3];\n",
    "v_values =[0,0];\n",
    "plt.plot(x_values, v_values)\n",
    "\n",
    "#draw bracketing points\n",
    "plt.plot(x_min, y_min, marker='o', color=\"green\")\n",
    "plt.annotate(\"%.4f,%.4f\" %(x_min,y_min), (x_min,y_min))\n",
    "plt.plot(x_max,y_max, marker='o', color=\"green\")\n",
    "plt.annotate(\"%.4f,%.4f\" %(x_max,y_max), (x_max,y_max))\n",
    "\n",
    "#draw the root\n",
    "plt.plot(x_root,y_root, marker='o', color =\"red\")\n",
    "plt.annotate(\"%.4f,%.4f\" %(x_root,y_root), (x_root,y_root))"
   ]
  },
  {
   "cell_type": "markdown",
   "id": "674f6a3f",
   "metadata": {},
   "source": [
    "#### The program took  16 iterations to converge."
   ]
  }
 ],
 "metadata": {
  "kernelspec": {
   "display_name": "Python 3 (ipykernel)",
   "language": "python",
   "name": "python3"
  },
  "language_info": {
   "codemirror_mode": {
    "name": "ipython",
    "version": 3
   },
   "file_extension": ".py",
   "mimetype": "text/x-python",
   "name": "python",
   "nbconvert_exporter": "python",
   "pygments_lexer": "ipython3",
   "version": "3.9.7"
  }
 },
 "nbformat": 4,
 "nbformat_minor": 5
}
